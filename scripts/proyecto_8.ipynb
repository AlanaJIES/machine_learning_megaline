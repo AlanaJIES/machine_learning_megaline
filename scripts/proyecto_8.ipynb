{
 "cells": [
  {
   "cell_type": "markdown",
   "id": "93a1dd75-9fc6-4808-b6d9-afd534ee3b11",
   "metadata": {},
   "source": [
    "Proyecto 8. Megaline: Smart o Ultra."
   ]
  },
  {
   "cell_type": "markdown",
   "id": "0e59f586-1769-4e78-9bb9-1805d6390b63",
   "metadata": {},
   "source": [
    "Paso 1. importar los datasets utilizados."
   ]
  },
  {
   "cell_type": "markdown",
   "id": "9d5f8206-e30a-4c26-bb28-02396ef8061c",
   "metadata": {},
   "source": [
    "Primero importaremos las librerías correspondiente. Luego de esto leemos el archivo como valores separados por comas (ambos son CSV, de acuerdo a la terminación de los archivos)."
   ]
  },
  {
   "cell_type": "code",
   "execution_count": 4,
   "id": "85557133-7922-4c74-95f4-f93eeee374e3",
   "metadata": {},
   "outputs": [],
   "source": [
    "#Librerías\n",
    "import pandas as pd\n",
    "from sklearn.tree import DecisionTreeClassifier\n",
    "from sklearn.ensemble import RandomForestClassifier\n",
    "from sklearn.linear_model import LogisticRegression\n",
    "from sklearn.metrics import accuracy_score\n",
    "from sklearn.model_selection import train_test_split"
   ]
  },
  {
   "cell_type": "code",
   "execution_count": 5,
   "id": "86a539ab-0891-4625-8982-9ddfa220035b",
   "metadata": {},
   "outputs": [],
   "source": [
    "##Leemos el archivo\n",
    "us_behave=pd.read_csv('/data/users_behavior.csv')"
   ]
  },
  {
   "cell_type": "markdown",
   "id": "d62c36d0-8dfa-4d24-b506-33e6fb708825",
   "metadata": {},
   "source": [
    "Paso 2. Estudiar y observar los datos que contiene y los tipos de datos.\n"
   ]
  },
  {
   "cell_type": "markdown",
   "id": "b6a92821-28c7-4228-800a-70e1f114c9e2",
   "metadata": {},
   "source": [
    "Se imprimen las primeras filas para verificar cual es el delimitador del archivo, como están los nombres de las columnas, entre otras cosas. Se lee la información general usando el método \"info()\", observando la presencia de datos nulos y el tipo de datos que tenemos en los data frames.\n"
   ]
  },
  {
   "cell_type": "code",
   "execution_count": 8,
   "id": "4386492d-c8c1-40af-a748-03f993046b2b",
   "metadata": {},
   "outputs": [
    {
     "data": {
      "text/html": [
       "<div>\n",
       "<style scoped>\n",
       "    .dataframe tbody tr th:only-of-type {\n",
       "        vertical-align: middle;\n",
       "    }\n",
       "\n",
       "    .dataframe tbody tr th {\n",
       "        vertical-align: top;\n",
       "    }\n",
       "\n",
       "    .dataframe thead th {\n",
       "        text-align: right;\n",
       "    }\n",
       "</style>\n",
       "<table border=\"1\" class=\"dataframe\">\n",
       "  <thead>\n",
       "    <tr style=\"text-align: right;\">\n",
       "      <th></th>\n",
       "      <th>calls</th>\n",
       "      <th>minutes</th>\n",
       "      <th>messages</th>\n",
       "      <th>mb_used</th>\n",
       "      <th>is_ultra</th>\n",
       "    </tr>\n",
       "  </thead>\n",
       "  <tbody>\n",
       "    <tr>\n",
       "      <th>0</th>\n",
       "      <td>40.0</td>\n",
       "      <td>311.90</td>\n",
       "      <td>83.0</td>\n",
       "      <td>19915.42</td>\n",
       "      <td>0</td>\n",
       "    </tr>\n",
       "    <tr>\n",
       "      <th>1</th>\n",
       "      <td>85.0</td>\n",
       "      <td>516.75</td>\n",
       "      <td>56.0</td>\n",
       "      <td>22696.96</td>\n",
       "      <td>0</td>\n",
       "    </tr>\n",
       "    <tr>\n",
       "      <th>2</th>\n",
       "      <td>77.0</td>\n",
       "      <td>467.66</td>\n",
       "      <td>86.0</td>\n",
       "      <td>21060.45</td>\n",
       "      <td>0</td>\n",
       "    </tr>\n",
       "    <tr>\n",
       "      <th>3</th>\n",
       "      <td>106.0</td>\n",
       "      <td>745.53</td>\n",
       "      <td>81.0</td>\n",
       "      <td>8437.39</td>\n",
       "      <td>1</td>\n",
       "    </tr>\n",
       "    <tr>\n",
       "      <th>4</th>\n",
       "      <td>66.0</td>\n",
       "      <td>418.74</td>\n",
       "      <td>1.0</td>\n",
       "      <td>14502.75</td>\n",
       "      <td>0</td>\n",
       "    </tr>\n",
       "    <tr>\n",
       "      <th>...</th>\n",
       "      <td>...</td>\n",
       "      <td>...</td>\n",
       "      <td>...</td>\n",
       "      <td>...</td>\n",
       "      <td>...</td>\n",
       "    </tr>\n",
       "    <tr>\n",
       "      <th>3209</th>\n",
       "      <td>122.0</td>\n",
       "      <td>910.98</td>\n",
       "      <td>20.0</td>\n",
       "      <td>35124.90</td>\n",
       "      <td>1</td>\n",
       "    </tr>\n",
       "    <tr>\n",
       "      <th>3210</th>\n",
       "      <td>25.0</td>\n",
       "      <td>190.36</td>\n",
       "      <td>0.0</td>\n",
       "      <td>3275.61</td>\n",
       "      <td>0</td>\n",
       "    </tr>\n",
       "    <tr>\n",
       "      <th>3211</th>\n",
       "      <td>97.0</td>\n",
       "      <td>634.44</td>\n",
       "      <td>70.0</td>\n",
       "      <td>13974.06</td>\n",
       "      <td>0</td>\n",
       "    </tr>\n",
       "    <tr>\n",
       "      <th>3212</th>\n",
       "      <td>64.0</td>\n",
       "      <td>462.32</td>\n",
       "      <td>90.0</td>\n",
       "      <td>31239.78</td>\n",
       "      <td>0</td>\n",
       "    </tr>\n",
       "    <tr>\n",
       "      <th>3213</th>\n",
       "      <td>80.0</td>\n",
       "      <td>566.09</td>\n",
       "      <td>6.0</td>\n",
       "      <td>29480.52</td>\n",
       "      <td>1</td>\n",
       "    </tr>\n",
       "  </tbody>\n",
       "</table>\n",
       "<p>3214 rows × 5 columns</p>\n",
       "</div>"
      ],
      "text/plain": [
       "      calls  minutes  messages   mb_used  is_ultra\n",
       "0      40.0   311.90      83.0  19915.42         0\n",
       "1      85.0   516.75      56.0  22696.96         0\n",
       "2      77.0   467.66      86.0  21060.45         0\n",
       "3     106.0   745.53      81.0   8437.39         1\n",
       "4      66.0   418.74       1.0  14502.75         0\n",
       "...     ...      ...       ...       ...       ...\n",
       "3209  122.0   910.98      20.0  35124.90         1\n",
       "3210   25.0   190.36       0.0   3275.61         0\n",
       "3211   97.0   634.44      70.0  13974.06         0\n",
       "3212   64.0   462.32      90.0  31239.78         0\n",
       "3213   80.0   566.09       6.0  29480.52         1\n",
       "\n",
       "[3214 rows x 5 columns]"
      ]
     },
     "metadata": {},
     "output_type": "display_data"
    },
    {
     "name": "stdout",
     "output_type": "stream",
     "text": [
      "<class 'pandas.core.frame.DataFrame'>\n",
      "RangeIndex: 3214 entries, 0 to 3213\n",
      "Data columns (total 5 columns):\n",
      " #   Column    Non-Null Count  Dtype  \n",
      "---  ------    --------------  -----  \n",
      " 0   calls     3214 non-null   float64\n",
      " 1   minutes   3214 non-null   float64\n",
      " 2   messages  3214 non-null   float64\n",
      " 3   mb_used   3214 non-null   float64\n",
      " 4   is_ultra  3214 non-null   int64  \n",
      "dtypes: float64(4), int64(1)\n",
      "memory usage: 125.7 KB\n"
     ]
    }
   ],
   "source": [
    "#Mostramos la información del Data frame de us_behave\n",
    "display(us_behave)\n",
    "us_behave.info()"
   ]
  },
  {
   "cell_type": "markdown",
   "id": "57b26e06-b0b6-4bac-842d-e92d4cdd8136",
   "metadata": {},
   "source": [
    "No hay datos nulos. Las primeras cuatro columnas (calls, minutes, messages, mb_used) son datos de tipo float64. Las columnas calls y messages podrían ser transformadas a int64, por el momento no lo haremos. Para la columna is_ultra en esta se muestra el plan para el mes actual (Ultra es 1, Smart es 0). Esta columna tiene datos de tipo int64."
   ]
  },
  {
   "cell_type": "markdown",
   "id": "e0cb9257-3080-4db5-8606-154f0de2f7f6",
   "metadata": {},
   "source": [
    "2.- Segmentar los datos fuente en tres conjuntos: entrenamiento (60%), validación (20%) y prueba (20%)."
   ]
  },
  {
   "cell_type": "code",
   "execution_count": 11,
   "id": "f7836ed3-a25b-4125-b4aa-ac54f75af4e1",
   "metadata": {},
   "outputs": [],
   "source": [
    "# Dividir los datos en características y objetivo\n",
    "features = us_behave.drop(columns=['is_ultra'])\n",
    "target = us_behave['is_ultra']"
   ]
  },
  {
   "cell_type": "code",
   "execution_count": 12,
   "id": "e4a6f352-442c-4546-94bf-7e5f74abafe1",
   "metadata": {},
   "outputs": [],
   "source": [
    "# Dividimos los datos en dos partes: 80% para entrenamiento+validación y 20% para prueba\n",
    "features_train_val, features_test, target_train_val, target_test = train_test_split(features, target, test_size=0.2, random_state=12345)\n",
    "\n",
    "# Dividimos el conjunto de entrenamiento+validación en dos partes: \n",
    "#75% (60% del total original) para entrenamiento y 25% (20% del total original) para validación\n",
    "features_train, features_val, target_train, target_val = train_test_split(features_train_val, target_train_val, test_size=0.25, random_state=12345)"
   ]
  },
  {
   "cell_type": "markdown",
   "id": "a94a882a-3cc2-419c-91a4-7e81a599f7dd",
   "metadata": {},
   "source": [
    "3.- Investigaremos la calidad de diferentes modelos cambiando los hiperparámetros."
   ]
  },
  {
   "cell_type": "markdown",
   "id": "43068c2c-9e10-45d5-b367-dd34946b1110",
   "metadata": {},
   "source": [
    "1.-Bosque aleatorio. Para este modelo determinamos best_score igual a 0 y el número de estimadores (best_est) en 0 árboles de nuestro bosque. De esta manera se itera por los árboles de nuestro rango del hiperparámetro. El modelo se configura por el número de árboles, con el estado random de 12345. Se entrena el modelo con el conjunto de entrenamiento. Se calcula la puntuación de exactitud usando el conjunto de validación. De está forma obtenemos el mejor modelo y su exactitud, con el número de estimadores."
   ]
  },
  {
   "cell_type": "code",
   "execution_count": 48,
   "id": "31ffad3a-4906-4dbd-8d05-04fc4976aba0",
   "metadata": {},
   "outputs": [
    {
     "name": "stdout",
     "output_type": "stream",
     "text": [
      "La exactitud del mejor modelo usando el conjunto de validación (n_estimators = 65): 0.7993779160186625\n"
     ]
    }
   ],
   "source": [
    "best_score = 0\n",
    "best_est = 0\n",
    "\n",
    "for est in range(1, 101): \n",
    "    model_for = RandomForestClassifier(random_state=12345, n_estimators=est)\n",
    "    model_for.fit(features_train, target_train)\n",
    "    score = model_for.score(features_val, target_val)\n",
    "    if score > best_score:\n",
    "        best_score = score\n",
    "        best_est = est\n",
    "\n",
    "print(\"La exactitud del mejor modelo usando el conjunto de validación (n_estimators = {}): {}\".format(best_est, best_score))"
   ]
  },
  {
   "cell_type": "markdown",
   "id": "5544547c-1c1d-4085-8176-ce1af53002c3",
   "metadata": {},
   "source": [
    "La puntuación de exactitud del mejor modelo (con 65 árboles ó estimadores) usando el conjunto de validación es de 0.7993779160186625. \n"
   ]
  },
  {
   "cell_type": "markdown",
   "id": "fea7a412-dfce-4d6b-930e-3e17836016f9",
   "metadata": {},
   "source": [
    "2.-Regresión logística. Se determina el modelo usando el estado random de 12345 y se selecciona el algoritmo de optimización de liblinear. Este último funciona bien con data sets pequeños, y maneja solamente clasificación binaria. Se entrena el modelo usando el conjunto de entrenamiento. Se muestran la exactitud de los modelos de regresión logistica usando los conjuntos de entrenamiento y validación. "
   ]
  },
  {
   "cell_type": "code",
   "execution_count": 49,
   "id": "f3cd5e9b-d9b6-4aea-a5f9-9788e204c795",
   "metadata": {},
   "outputs": [
    {
     "name": "stdout",
     "output_type": "stream",
     "text": [
      "Exactitud del modelo de regresión logística en el conjunto de entrenamiento: 0.7028008298755186\n",
      "Exactitud del modelo de regresión logística en el conjunto de validación: 0.6998444790046656\n"
     ]
    }
   ],
   "source": [
    "model_lr = LogisticRegression(random_state=12345, solver='liblinear')\n",
    "\n",
    "model_lr.fit(features_train, target_train) \n",
    "\n",
    "score_train = model_lr.score(features_train, target_train)\n",
    "score_valid = model_lr.score(features_val, target_val) \n",
    "\n",
    "print(\"Exactitud del modelo de regresión logística en el conjunto de entrenamiento:\", score_train)\n",
    "print(\"Exactitud del modelo de regresión logística en el conjunto de validación:\", score_valid)"
   ]
  },
  {
   "cell_type": "markdown",
   "id": "09019e1c-8846-4847-826e-557d5518cffe",
   "metadata": {},
   "source": [
    "La exactitud del conjunto de entrenamiento es mayor a los valores de exxactitud en los conjuntos de validación. Esto indica un sobreajuste. La exactitud usando el conjunto de validación es menor a comparación del obtenido usando el modelo de bosque aleatorio."
   ]
  },
  {
   "cell_type": "markdown",
   "id": "06fa55ed-3a7d-4fb7-bdc0-6e6779165dfd",
   "metadata": {},
   "source": [
    "4.-Comprueba la calidad del modelo usando el conjunto de prueba.\n"
   ]
  },
  {
   "cell_type": "markdown",
   "id": "60ffc397-a6d6-4e22-b996-60f3d8700da8",
   "metadata": {},
   "source": [
    "1.- Bosque aleatorio"
   ]
  },
  {
   "cell_type": "code",
   "execution_count": 52,
   "id": "66ab82e8-847c-4dbd-890b-8f9892f57586",
   "metadata": {},
   "outputs": [
    {
     "name": "stdout",
     "output_type": "stream",
     "text": [
      "Puntuación de exactitud usando el conjunto de prueba, con los 65 estimadores 0.7900466562986003\n"
     ]
    }
   ],
   "source": [
    "model_test_for = RandomForestClassifier(random_state=12345, n_estimators=65)\n",
    "model_test_for.fit(features_train, target_train)\n",
    "score_test_for = model_test_for.score(features_test, target_test)\n",
    "\n",
    "print(\"Puntuación de exactitud usando el conjunto de prueba, con los 65 estimadores\", score_test_for)"
   ]
  },
  {
   "cell_type": "markdown",
   "id": "c86a8bca-c2a4-400b-b1b1-7787f8f04c58",
   "metadata": {},
   "source": [
    "Nuestro modelo muestra indicios de sobreajsute. La exactitud obtenida usando el conjunto de prueba es de 0.7900466562986003. Esto es menor a comparación de la puntuación obtenida usando el conjunto de validación: 0.7993779160186625. Esto es comprensible, debido a que estamos usando una quinta parte de la cantidad de datos iniciales, con la cual hicimos dicha prueba."
   ]
  },
  {
   "cell_type": "markdown",
   "id": "4f3b2c32-1fcf-44eb-a9cb-23a08275f165",
   "metadata": {},
   "source": [
    "2.- Regresión logística"
   ]
  },
  {
   "cell_type": "code",
   "execution_count": 59,
   "id": "eeea8e59-2f3c-4a48-8444-8261b24d2196",
   "metadata": {},
   "outputs": [
    {
     "name": "stdout",
     "output_type": "stream",
     "text": [
      "Exactitud del modelo de regresión logística en el conjunto de prueba: 0.6998444790046656\n"
     ]
    }
   ],
   "source": [
    "score_test=model_lr.score(features_test, target_test)\n",
    "print(\"Exactitud del modelo de regresión logística en el conjunto de prueba:\", score_test)"
   ]
  },
  {
   "cell_type": "markdown",
   "id": "0958a482-9b2b-432a-a9d0-b3fc3180817d",
   "metadata": {},
   "source": [
    "De la misma forma, el modelo que usa la regresión logística parece tener un ligero sobreajuste. Comparando ambos modelos, observamos que el mejor modelo para trabajar con nuestros datos es el de el bosque aleatorio con 65 estimadores (árboles)."
   ]
  },
  {
   "cell_type": "code",
   "execution_count": null,
   "id": "e901934a",
   "metadata": {},
   "outputs": [],
   "source": []
  }
 ],
 "metadata": {
  "kernelspec": {
   "display_name": "Python 3 (ipykernel)",
   "language": "python",
   "name": "python3"
  },
  "language_info": {
   "codemirror_mode": {
    "name": "ipython",
    "version": 3
   },
   "file_extension": ".py",
   "mimetype": "text/x-python",
   "name": "python",
   "nbconvert_exporter": "python",
   "pygments_lexer": "ipython3",
   "version": "3.9.19"
  },
  "toc": {
   "base_numbering": 1,
   "nav_menu": {},
   "number_sections": true,
   "sideBar": true,
   "skip_h1_title": true,
   "title_cell": "Table of Contents",
   "title_sidebar": "Contents",
   "toc_cell": false,
   "toc_position": {},
   "toc_section_display": true,
   "toc_window_display": false
  }
 },
 "nbformat": 4,
 "nbformat_minor": 5
}
